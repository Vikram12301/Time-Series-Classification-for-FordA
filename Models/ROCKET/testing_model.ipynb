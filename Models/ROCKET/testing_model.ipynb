{
  "nbformat": 4,
  "nbformat_minor": 0,
  "metadata": {
    "colab": {
      "name": "testing model.ipynb",
      "provenance": [],
      "authorship_tag": "ABX9TyNRr/xm7eLt9tgdtb/bsqs0",
      "include_colab_link": true
    },
    "kernelspec": {
      "name": "python3",
      "display_name": "Python 3"
    },
    "language_info": {
      "name": "python"
    }
  },
  "cells": [
    {
      "cell_type": "markdown",
      "metadata": {
        "id": "view-in-github",
        "colab_type": "text"
      },
      "source": [
        "<a href=\"https://colab.research.google.com/github/Vikram12301/Time-Series-Classification-for-FordA/blob/main/Models/ROCKET/testing_model.ipynb\" target=\"_parent\"><img src=\"https://colab.research.google.com/assets/colab-badge.svg\" alt=\"Open In Colab\"/></a>"
      ]
    },
    {
      "cell_type": "code",
      "metadata": {
        "colab": {
          "base_uri": "https://localhost:8080/"
        },
        "id": "a-ix4KmMMbDb",
        "outputId": "c74333e6-e16c-4c3d-da8c-f9c94f921384"
      },
      "source": [
        "!pip install audio2numpy"
      ],
      "execution_count": 1,
      "outputs": [
        {
          "output_type": "stream",
          "name": "stdout",
          "text": [
            "Requirement already satisfied: audio2numpy in /usr/local/lib/python3.7/dist-packages (0.1.2)\n",
            "Requirement already satisfied: numpy in /usr/local/lib/python3.7/dist-packages (from audio2numpy) (1.19.5)\n",
            "Requirement already satisfied: ffmpeg in /usr/local/lib/python3.7/dist-packages (from audio2numpy) (1.4)\n"
          ]
        }
      ]
    },
    {
      "cell_type": "code",
      "metadata": {
        "id": "CjjzIffcMnDh"
      },
      "source": [
        "import numpy as np\n",
        "import audio2numpy as a2n"
      ],
      "execution_count": 2,
      "outputs": []
    },
    {
      "cell_type": "code",
      "metadata": {
        "id": "WttbIdlbMxBh"
      },
      "source": [
        "fname = '/content/096198286-audi-a4-allroad-engine-driving.wav'"
      ],
      "execution_count": 3,
      "outputs": []
    },
    {
      "cell_type": "code",
      "metadata": {
        "id": "UukgGwlUNvoT"
      },
      "source": [
        "x,sr=a2n.audio_from_file(fname)"
      ],
      "execution_count": 4,
      "outputs": []
    },
    {
      "cell_type": "code",
      "metadata": {
        "id": "Pdg9d7EnOBWE"
      },
      "source": [
        "test = np.unique(x[:,0],return_counts=True)[0][:500]"
      ],
      "execution_count": 5,
      "outputs": []
    },
    {
      "cell_type": "code",
      "metadata": {
        "id": "TckEaOeXQo2T"
      },
      "source": [
        "tes = test.reshape((-1, 500, 1))"
      ],
      "execution_count": 6,
      "outputs": []
    },
    {
      "cell_type": "code",
      "metadata": {
        "id": "3LM2JurMNb4d"
      },
      "source": [
        "from keras.models import load_model\n",
        "model = load_model('/content/best_model.h5')"
      ],
      "execution_count": 7,
      "outputs": []
    },
    {
      "cell_type": "code",
      "metadata": {
        "id": "ZPdHwOlVNfvN"
      },
      "source": [
        "model.compile(optimizer = 'adam', loss = 'binary_crossentropy', metrics = ['accuracy'])"
      ],
      "execution_count": 8,
      "outputs": []
    },
    {
      "cell_type": "code",
      "metadata": {
        "id": "N10tcgkYNphV"
      },
      "source": [
        "result = model.predict(tes)"
      ],
      "execution_count": 9,
      "outputs": []
    },
    {
      "cell_type": "code",
      "metadata": {
        "colab": {
          "base_uri": "https://localhost:8080/"
        },
        "id": "pPp9d975Q5yq",
        "outputId": "6d5c46bd-4726-4724-9295-04a3ebcf22ce"
      },
      "source": [
        "result"
      ],
      "execution_count": 10,
      "outputs": [
        {
          "output_type": "execute_result",
          "data": {
            "text/plain": [
              "array([[4.3943516e-04, 9.9956053e-01]], dtype=float32)"
            ]
          },
          "metadata": {},
          "execution_count": 10
        }
      ]
    },
    {
      "cell_type": "code",
      "metadata": {
        "colab": {
          "base_uri": "https://localhost:8080/"
        },
        "id": "qEUcu0oTRWgJ",
        "outputId": "9bc84f08-a8ef-493f-970a-fc9429b86b23"
      },
      "source": [
        "np.argmax(result)"
      ],
      "execution_count": 11,
      "outputs": [
        {
          "output_type": "execute_result",
          "data": {
            "text/plain": [
              "1"
            ]
          },
          "metadata": {},
          "execution_count": 11
        }
      ]
    }
  ]
}