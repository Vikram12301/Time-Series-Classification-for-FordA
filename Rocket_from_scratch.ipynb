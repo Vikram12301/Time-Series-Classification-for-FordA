{
  "nbformat": 4,
  "nbformat_minor": 0,
  "metadata": {
    "colab": {
      "name": "Rocket from scratch.ipynb",
      "provenance": [],
      "authorship_tag": "ABX9TyMaBTShB8sB7NiapRLeOQub",
      "include_colab_link": true
    },
    "kernelspec": {
      "name": "python3",
      "display_name": "Python 3"
    },
    "language_info": {
      "name": "python"
    }
  },
  "cells": [
    {
      "cell_type": "markdown",
      "metadata": {
        "id": "view-in-github",
        "colab_type": "text"
      },
      "source": [
        "<a href=\"https://colab.research.google.com/github/Vikram12301/Time-Series-Classification-for-FordA/blob/main/Rocket_from_scratch.ipynb\" target=\"_parent\"><img src=\"https://colab.research.google.com/assets/colab-badge.svg\" alt=\"Open In Colab\"/></a>"
      ]
    },
    {
      "cell_type": "code",
      "metadata": {
        "id": "9wkzJXzRZkX8"
      },
      "source": [
        "import numpy as np"
      ],
      "execution_count": 1,
      "outputs": []
    },
    {
      "cell_type": "code",
      "metadata": {
        "id": "TNgwQ9w8ZsQI"
      },
      "source": [
        "def create_kernel(input_length,num_kernals):\n",
        "  kernel_length_choices = np.array((7, 9, 11), dtype = np.int32)\n",
        "  kernel_lengths = np.random.choice(kernel_length_choices,num_kernels)\n",
        "  weights = np.zeros(np.sum(kernel_lengths),dtype=np.float64)\n",
        "  biases = np.zeros(num_kernels,dtype=np.float64)\n",
        "  dilations = np.zeros(num_kernels,dtype=np.int32)\n",
        "  paddings = np.zeros(num_kernels,dtype=np.int32)\n",
        "  start = 0\n",
        "  for i in range(num_kernals):\n",
        "    length = kernel_lengths[i]\n",
        "    w = np.random.normal(0,1,length)\n",
        "    end = start + length\n",
        "    weights[start:end] = w - np.mean(w)\n",
        "    biases[i] = np.random.uniform(-1, 1)\n",
        "    dilation = 2 ** np.random.uniform(0,np.log2((input_length-1)/(length-1)))\n",
        "    dilation = np.int32(dilation)\n",
        "    dilations[i] = dilation\n",
        "    padding = ((length - 1)*dilation)//2 if np.random.randint(2)== 1 else 0\n",
        "    paddings[i] = padding\n",
        "    start = end\n",
        "    return weights, lengths, biases, dilations, paddings"
      ],
      "execution_count": 2,
      "outputs": []
    },
    {
      "cell_type": "code",
      "metadata": {
        "id": "793lypLtckls"
      },
      "source": [
        "def kernalise(X, weights, length, bias, dilation, padding):\n",
        "  input_length = len(X)\n",
        "  output_length = (input_length+(2*padding))-((length-1)*dilation)\n",
        "  ppv = 0                                                               # To count the positive values of sum\n",
        "  max = np.NINF                                                         # To find the maximum sum \n",
        "  end = (input_length+padding)-((length-1)*dilation)\n",
        "  for i in range(-padding, end):\n",
        "    sum = bias\n",
        "    index = i\n",
        "    for j in range(length):\n",
        "      if index > -1 and index < input_length:\n",
        "        sum = sum + weights[j] * X[index]\n",
        "      index = index + dilation\n",
        "    if sum > max:\n",
        "      max = sum\n",
        "    if sum > 0:\n",
        "      ppv += 1\n",
        "    return ppv/output_length,max"
      ],
      "execution_count": 3,
      "outputs": []
    },
    {
      "cell_type": "code",
      "metadata": {
        "id": "wT3eaOPpeIkC"
      },
      "source": [
        "def apply_kernels(X, kernels):\n",
        "  weights, lengths, biases, dilations, paddings = kernels\n",
        "  num_examples, _ = X.shape\n",
        "  num_kernels = len(lengths)\n",
        "  _X = np.zeros((num_examples, num_kernels * 2), dtype = np.float64)\n",
        "  for i in range(num_examples):\n",
        "    a1 = 0 # for weights\n",
        "    a2 = 0 # for features\n",
        "    for j in range(num_kernels):\n",
        "      b1 = a1 + lengths[j]\n",
        "      b2 = a2 + 2\n",
        "      _X[i, a2:b2] = kernelise(X[i], weights[a1:b1], lengths[j], biases[j], dilations[j], paddings[j])\n",
        "      a1 = b1\n",
        "      a2 = b2\n",
        "  return _X"
      ],
      "execution_count": 4,
      "outputs": []
    },
    {
      "cell_type": "code",
      "metadata": {
        "id": "bQ39jtiDh7xZ"
      },
      "source": [
        ""
      ],
      "execution_count": 4,
      "outputs": []
    }
  ]
}