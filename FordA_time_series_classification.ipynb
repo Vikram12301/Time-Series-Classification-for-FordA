{
  "nbformat": 4,
  "nbformat_minor": 0,
  "metadata": {
    "colab": {
      "name": "FordA time series classification.ipynb",
      "provenance": [],
      "collapsed_sections": [],
      "authorship_tag": "ABX9TyNNjSzS3pI7Ua98tA9k1XRo",
      "include_colab_link": true
    },
    "kernelspec": {
      "name": "python3",
      "display_name": "Python 3"
    },
    "language_info": {
      "name": "python"
    }
  },
  "cells": [
    {
      "cell_type": "markdown",
      "metadata": {
        "id": "view-in-github",
        "colab_type": "text"
      },
      "source": [
        "<a href=\"https://colab.research.google.com/github/Vikram12301/Time-Series-Classification-for-FordA/blob/main/FordA_time_series_classification.ipynb\" target=\"_parent\"><img src=\"https://colab.research.google.com/assets/colab-badge.svg\" alt=\"Open In Colab\"/></a>"
      ]
    },
    {
      "cell_type": "code",
      "metadata": {
        "id": "MDgro25W7NiK"
      },
      "source": [
        "!pip install sktime"
      ],
      "execution_count": null,
      "outputs": []
    },
    {
      "cell_type": "code",
      "metadata": {
        "id": "bNUHxcxf6Kik"
      },
      "source": [
        "import numpy as np\n",
        "import pandas as pd\n",
        "from sklearn.linear_model import LogisticRegression,RidgeClassifierCV\n",
        "from sklearn.svm import SVC\n",
        "import matplotlib.pyplot as plt\n",
        "import seaborn as sns\n",
        "from sktime.datatypes._panel._convert import from_2d_array_to_nested,from_nested_to_2d_array\n",
        "from sktime.transformations.panel.rocket import Rocket\n",
        "from sklearn.metrics import accuracy_score,recall_score,precision_score,confusion_matrix,plot_roc_curve\n",
        "from sklearn.model_selection import train_test_split\n",
        "import warnings\n",
        "warnings.filterwarnings('ignore')"
      ],
      "execution_count": 6,
      "outputs": []
    },
    {
      "cell_type": "code",
      "metadata": {
        "id": "3X3Trb9K629I"
      },
      "source": [
        "def readucr(filename):\n",
        "    data = np.loadtxt(filename, delimiter=\"\\t\")\n",
        "    y = data[:, 0]\n",
        "    x = data[:, 1:]\n",
        "    return x, y.astype(int)\n",
        "\n",
        "\n",
        "root_url = \"https://raw.githubusercontent.com/hfawaz/cd-diagram/master/FordA/\"\n",
        "\n",
        "X_train, y_train = readucr(root_url + \"FordA_TRAIN.tsv\")\n",
        "X_test, y_test = readucr(root_url + \"FordA_TEST.tsv\")"
      ],
      "execution_count": 7,
      "outputs": []
    },
    {
      "cell_type": "code",
      "metadata": {
        "colab": {
          "base_uri": "https://localhost:8080/"
        },
        "id": "e3daejtVYr44",
        "outputId": "7678c3d9-b437-4cdf-ed4b-a393e0a2aec3"
      },
      "source": [
        "np.isnan(X_train).any()"
      ],
      "execution_count": 8,
      "outputs": [
        {
          "output_type": "execute_result",
          "data": {
            "text/plain": [
              "False"
            ]
          },
          "metadata": {},
          "execution_count": 8
        }
      ]
    },
    {
      "cell_type": "code",
      "metadata": {
        "colab": {
          "base_uri": "https://localhost:8080/"
        },
        "id": "c27qa7oxZc3g",
        "outputId": "c351ddc2-107d-4ef9-a809-b3df3aa50fdb"
      },
      "source": [
        "np.isnan(X_test).any()"
      ],
      "execution_count": 9,
      "outputs": [
        {
          "output_type": "execute_result",
          "data": {
            "text/plain": [
              "False"
            ]
          },
          "metadata": {},
          "execution_count": 9
        }
      ]
    },
    {
      "cell_type": "code",
      "metadata": {
        "colab": {
          "base_uri": "https://localhost:8080/",
          "height": 281
        },
        "id": "uwIWq0x8ZgC3",
        "outputId": "fa5a97cf-aa2d-473e-87bf-748fef9475f0"
      },
      "source": [
        "ax = sns.countplot(y_train)\n",
        "plt.title('Distribution')\n",
        "for p in ax.patches:\n",
        "  ax.annotate('{:}'.format(p.get_height()), (p.get_x()+0.375, p.get_height()+10))"
      ],
      "execution_count": 10,
      "outputs": [
        {
          "output_type": "display_data",
          "data": {
            "image/png": "[encoded data removed]",
            "text/plain": [
              "<Figure size 432x288 with 1 Axes>"
            ]
          },
          "metadata": {
            "needs_background": "light"
          }
        }
      ]
    },
    {
      "cell_type": "code",
      "metadata": {
        "colab": {
          "base_uri": "https://localhost:8080/"
        },
        "id": "LtayI1ZvdMt3",
        "outputId": "e5a66ae2-7f58-41e9-c094-ca7773c71e7e"
      },
      "source": [
        "np.where(y_train==-1)[0][0]"
      ],
      "execution_count": 11,
      "outputs": [
        {
          "output_type": "execute_result",
          "data": {
            "text/plain": [
              "0"
            ]
          },
          "metadata": {},
          "execution_count": 11
        }
      ]
    },
    {
      "cell_type": "code",
      "metadata": {
        "colab": {
          "base_uri": "https://localhost:8080/",
          "height": 265
        },
        "id": "-0bRvhDYa6dI",
        "outputId": "c22a0860-9bce-479f-9b8c-663cd3b032ee"
      },
      "source": [
        "classes = np.unique(y_train)\n",
        "f0 = np.where(y_train==1)[0][0]\n",
        "f1 = np.where(y_train==-1)[0][0]\n",
        "plt.plot(X_train[f0],label='1')\n",
        "plt.plot(X_train[f1],label='-1')\n",
        "plt.legend(loc=\"best\")\n",
        "plt.show()\n",
        "plt.close()"
      ],
      "execution_count": 12,
      "outputs": [
        {
          "output_type": "display_data",
          "data": {
            "image/png": "[encoded data removed]",
            "text/plain": [
              "<Figure size 432x288 with 1 Axes>"
            ]
          },
          "metadata": {
            "needs_background": "light"
          }
        }
      ]
    },
    {
      "cell_type": "code",
      "metadata": {
        "id": "9pejWZLcnblO"
      },
      "source": [
        "X_train,X_cross,y_train,y_cross = train_test_split(X_train,y_train,stratify=y_train)"
      ],
      "execution_count": 13,
      "outputs": []
    },
    {
      "cell_type": "code",
      "metadata": {
        "id": "k2xVvHp2gHyn"
      },
      "source": [
        "X_train = (X_train - np.mean(X_train,axis=1).reshape(2700,1))/np.std(X_train,axis=1).reshape(2700,1)"
      ],
      "execution_count": 14,
      "outputs": []
    },
    {
      "cell_type": "code",
      "metadata": {
        "id": "LdspUt-in6h9"
      },
      "source": [
        "X_cross = (X_cross - np.mean(X_cross,axis=1).reshape(901,1))/np.std(X_cross,axis=1).reshape(901,1)"
      ],
      "execution_count": 15,
      "outputs": []
    },
    {
      "cell_type": "code",
      "metadata": {
        "id": "XkSqrcnvhOQP"
      },
      "source": [
        "X_test = (X_test - np.mean(X_test,axis=1).reshape(1320,1))/np.std(X_test,axis=1).reshape(1320,1)"
      ],
      "execution_count": 16,
      "outputs": []
    },
    {
      "cell_type": "code",
      "metadata": {
        "id": "91fCjBZaCsII"
      },
      "source": [
        "X_train_nested = from_2d_array_to_nested(X_train)\n",
        "X_cross_nested = from_2d_array_to_nested(X_cross)\n",
        "X_test_nested = from_2d_array_to_nested(X_test)"
      ],
      "execution_count": 17,
      "outputs": []
    },
    {
      "cell_type": "code",
      "metadata": {
        "id": "130yWnHeCUvr"
      },
      "source": [
        "rocket = Rocket()"
      ],
      "execution_count": 18,
      "outputs": []
    },
    {
      "cell_type": "code",
      "metadata": {
        "id": "d9iCxvWJBIO7"
      },
      "source": [
        "rocket_X_train = rocket.fit_transform(X_train_nested)"
      ],
      "execution_count": 21,
      "outputs": []
    },
    {
      "cell_type": "code",
      "metadata": {
        "id": "kj3bCEPioNvW"
      },
      "source": [
        "rocket_X_cross = rocket.transform(X_cross_nested)"
      ],
      "execution_count": 22,
      "outputs": []
    },
    {
      "cell_type": "code",
      "metadata": {
        "id": "5Z-942w5CRoq"
      },
      "source": [
        "rocket_X_test = rocket.transform(X_test_nested)"
      ],
      "execution_count": 23,
      "outputs": []
    },
    {
      "cell_type": "code",
      "metadata": {
        "id": "9ckEQJp811RN"
      },
      "source": [
        "rocket_X_train.to_csv('rocket_X_train',index=False)\n",
        "rocket_X_cross.to_csv('rocket_X_cross',index=False)\n",
        "rocket_X_test.to_csv('rocket_X_test',index=False)\n"
      ],
      "execution_count": 24,
      "outputs": []
    },
    {
      "cell_type": "code",
      "metadata": {
        "id": "WVtJVfIF86Xq"
      },
      "source": [
        "pd.DataFrame(y_train).to_csv('y_train',index=False)\n",
        "pd.DataFrame(y_cross).to_csv('y_cross',index=False)\n",
        "pd.DataFrame(y_test).to_csv('y_test',index=False)"
      ],
      "execution_count": 26,
      "outputs": []
    },
    {
      "cell_type": "code",
      "metadata": {
        "id": "KCQoROXH7zpi"
      },
      "source": [
        "rocket_X_train = pd.read_csv('/content/rocket_X_train')\n",
        "rocket_X_cross = pd.read_csv('/content/rocket_X_cross')\n",
        "rocket_X_test = pd.read_csv('/content/rocket_X_test')\n",
        "y_cross = pd.read_csv('/content/y_cross')\n",
        "y_train = pd.read_csv('/content/y_train')\n",
        "y_test = pd.read_csv('/content/y_test')"
      ],
      "execution_count": 28,
      "outputs": []
    },
    {
      "cell_type": "code",
      "metadata": {
        "id": "6XsKESD0C4sQ"
      },
      "source": [
        "model_log = LogisticRegression(max_iter=10000)"
      ],
      "execution_count": 29,
      "outputs": []
    },
    {
      "cell_type": "code",
      "metadata": {
        "colab": {
          "base_uri": "https://localhost:8080/"
        },
        "id": "YVzDF3muFk9g",
        "outputId": "3f0a5a2b-d8c3-47b1-9355-9e2e585aa86e"
      },
      "source": [
        "model_log.fit(rocket_X_train, y_train)"
      ],
      "execution_count": 30,
      "outputs": [
        {
          "output_type": "execute_result",
          "data": {
            "text/plain": [
              "LogisticRegression(max_iter=10000)"
            ]
          },
          "metadata": {},
          "execution_count": 30
        }
      ]
    },
    {
      "cell_type": "code",
      "metadata": {
        "id": "yYv1_EkwGKR0"
      },
      "source": [
        "ypred_logistic = model_log.predict(rocket_X_cross)"
      ],
      "execution_count": 31,
      "outputs": []
    },
    {
      "cell_type": "code",
      "metadata": {
        "colab": {
          "base_uri": "https://localhost:8080/"
        },
        "id": "DF_iJgCbIyrl",
        "outputId": "018b4a2d-7ec1-439d-ffa9-af23564c6a57"
      },
      "source": [
        "print(\"The accuracy for logistic regression is\",accuracy_score(ypred_logistic,y_cross))\n",
        "print(\"The precision for logistic regression is\",precision_score(ypred_logistic,y_cross))\n",
        "print(\"The recall for logistic regression is\",recall_score(ypred_logistic,y_cross))"
      ],
      "execution_count": 32,
      "outputs": [
        {
          "output_type": "stream",
          "name": "stdout",
          "text": [
            "The accuracy for logistic regression is 0.9167591564927858\n",
            "The precision for logistic regression is 0.9066059225512528\n",
            "The recall for logistic regression is 0.9212962962962963\n"
          ]
        }
      ]
    },
    {
      "cell_type": "code",
      "metadata": {
        "id": "cG7hEQbRI2O9"
      },
      "source": [
        "ridge = RidgeClassifierCV()"
      ],
      "execution_count": 33,
      "outputs": []
    },
    {
      "cell_type": "code",
      "metadata": {
        "colab": {
          "base_uri": "https://localhost:8080/"
        },
        "id": "jkqZaouiKN5W",
        "outputId": "4edecc39-db14-4288-f390-c6d9dd9b0e03"
      },
      "source": [
        "ridge.fit(rocket_X_train, y_train)"
      ],
      "execution_count": 34,
      "outputs": [
        {
          "output_type": "execute_result",
          "data": {
            "text/plain": [
              "RidgeClassifierCV(alphas=array([ 0.1,  1. , 10. ]))"
            ]
          },
          "metadata": {},
          "execution_count": 34
        }
      ]
    },
    {
      "cell_type": "code",
      "metadata": {
        "id": "OVWYErXaKSSk"
      },
      "source": [
        "ypred_ridge = ridge.predict(rocket_X_cross)"
      ],
      "execution_count": 35,
      "outputs": []
    },
    {
      "cell_type": "code",
      "metadata": {
        "colab": {
          "base_uri": "https://localhost:8080/"
        },
        "id": "1o5y2nzgKind",
        "outputId": "25f9648b-4507-432f-ea7e-9e29cafe9c55"
      },
      "source": [
        "print(\"The accuracy for ridge classifier is\",accuracy_score(ypred_ridge,y_cross))\n",
        "print(\"The precision for ridge classifier is\",precision_score(ypred_ridge,y_cross))\n",
        "print(\"The recall for ridge classifier is\",recall_score(ypred_ridge,y_cross))"
      ],
      "execution_count": 36,
      "outputs": [
        {
          "output_type": "stream",
          "name": "stdout",
          "text": [
            "The accuracy for ridge classifier is 0.8268590455049944\n",
            "The precision for ridge classifier is 0.8041002277904328\n",
            "The recall for ridge classifier is 0.83451536643026\n"
          ]
        }
      ]
    },
    {
      "cell_type": "code",
      "metadata": {
        "colab": {
          "base_uri": "https://localhost:8080/"
        },
        "id": "BBMRxym8LTBH",
        "outputId": "56a5e03a-cd3a-46dc-95d9-f6cecc052448"
      },
      "source": [
        "svm = SVC()\n",
        "svm.fit(rocket_X_train, y_train)"
      ],
      "execution_count": 37,
      "outputs": [
        {
          "output_type": "execute_result",
          "data": {
            "text/plain": [
              "SVC()"
            ]
          },
          "metadata": {},
          "execution_count": 37
        }
      ]
    },
    {
      "cell_type": "code",
      "metadata": {
        "id": "adeSIcIVL8a7"
      },
      "source": [
        "ypred_svm = svm.predict(rocket_X_cross)"
      ],
      "execution_count": 38,
      "outputs": []
    },
    {
      "cell_type": "code",
      "metadata": {
        "colab": {
          "base_uri": "https://localhost:8080/"
        },
        "id": "OO-4l6gSMW7W",
        "outputId": "606b31b1-e9af-4450-ca87-aae352a0645f"
      },
      "source": [
        "print(\"The accuracy for SVM is\",accuracy_score(ypred_svm,y_cross))\n",
        "print(\"The precision for SVM is\",precision_score(ypred_svm,y_cross))\n",
        "print(\"The recall for SVM is\",recall_score(ypred_svm,y_cross))"
      ],
      "execution_count": 39,
      "outputs": [
        {
          "output_type": "stream",
          "name": "stdout",
          "text": [
            "The accuracy for SVM is 0.9156492785793563\n",
            "The precision for SVM is 0.8997722095671982\n",
            "The recall for SVM is 0.9250585480093677\n"
          ]
        }
      ]
    },
    {
      "cell_type": "code",
      "metadata": {
        "colab": {
          "base_uri": "https://localhost:8080/",
          "height": 279
        },
        "id": "0MqjQoURT8sD",
        "outputId": "76d0de8f-796d-4bdb-f60d-907f9f852aaf"
      },
      "source": [
        "svc_disp = plot_roc_curve(svm, rocket_X_cross, y_cross)\n",
        "ridge_disp = plot_roc_curve(ridge, rocket_X_cross, y_cross,ax=svc_disp.ax_)\n",
        "plot_roc_curve(model_log, rocket_X_cross, y_cross,ax=ridge_disp.ax_)\n",
        "plt.show()"
      ],
      "execution_count": 40,
      "outputs": [
        {
          "output_type": "display_data",
          "data": {
            "image/png": "[encoded data removed]",
            "text/plain": [
              "<Figure size 432x288 with 1 Axes>"
            ]
          },
          "metadata": {
            "needs_background": "light"
          }
        }
      ]
    },
    {
      "cell_type": "code",
      "metadata": {
        "id": "B1vMC04vuIKd"
      },
      "source": [
        "ypred_SVM_test = svm.predict(rocket_X_test)"
      ],
      "execution_count": 41,
      "outputs": []
    },
    {
      "cell_type": "code",
      "metadata": {
        "colab": {
          "base_uri": "https://localhost:8080/"
        },
        "id": "RZ57PNUmCo7B",
        "outputId": "65ce41b4-bea3-47d6-80e1-fa5733dfdfd3"
      },
      "source": [
        "print(\"The accuracy is\",accuracy_score(ypred_SVM_test,y_test))\n",
        "print(\"The precision is\",precision_score(ypred_SVM_test,y_test))\n",
        "print(\"The recall is\",recall_score(ypred_SVM_test,y_test))"
      ],
      "execution_count": 42,
      "outputs": [
        {
          "output_type": "stream",
          "name": "stdout",
          "text": [
            "The accuracy is 0.9166666666666666\n",
            "The precision is 0.9076682316118936\n",
            "The recall is 0.919175911251981\n"
          ]
        }
      ]
    },
    {
      "cell_type": "code",
      "metadata": {
        "id": "Vp_ODeEODLXS"
      },
      "source": [
        "import pickle"
      ],
      "execution_count": 43,
      "outputs": []
    },
    {
      "cell_type": "code",
      "metadata": {
        "id": "AClmcqiyDvMJ"
      },
      "source": [
        "pickle.dump(svm, open('finalized_model.sav', 'wb'))"
      ],
      "execution_count": 45,
      "outputs": []
    },
    {
      "cell_type": "code",
      "metadata": {
        "id": "bb2zaoOmD4sJ"
      },
      "source": [
        ""
      ],
      "execution_count": null,
      "outputs": []
    }
  ]
}
